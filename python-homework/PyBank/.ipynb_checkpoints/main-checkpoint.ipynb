{
 "cells": [
  {
   "cell_type": "code",
   "execution_count": 54,
   "id": "a2deaed9-91fd-4fa0-84c7-b2ea3a6bf271",
   "metadata": {},
   "outputs": [
    {
     "name": "stdout",
     "output_type": "stream",
     "text": [
      "Financial Analysis\n",
      "-----------------------------\n",
      "Total Months: 86\n",
      "Total: $38382578\n",
      "Average Change: $-2288.20\n",
      "Greatest Increase in Profits: Feb-2012 ($1926159)\n",
      "Greatest Decrease in Profits: Sep-2013 ($-2196167)\n"
     ]
    }
   ],
   "source": [
    "#import csv file\n",
    "import csv \n",
    "\n",
    "#Read the budget data in csv and skip over the header\n",
    "with open('budget_data.csv', 'r') as csv_file:\n",
    "    csv_reader = csv.reader(csv_file)\n",
    "\n",
    "    header = next(csv_reader)\n",
    "    #variables\n",
    "    months = []\n",
    "    profit_losses = []\n",
    "    changes = []\n",
    "\n",
    "    for row in csv_reader:\n",
    "        months.append(row[0])\n",
    "        profit_losses.append(int(row[1]))\n",
    "        \n",
    "#total number of months\n",
    "total_months = len(months)\n",
    "\n",
    "#net total amount of profit/losses\n",
    "net_total_amount = sum(profit_losses)\n",
    "\n",
    "#monthly profit change\n",
    "monthly_profit_change = []\n",
    "\n",
    "for x in range(len(profit_losses)-1):\n",
    "\n",
    "        monthly_profit_change.append(profit_losses[x+1]-profit_losses[x])\n",
    "    \n",
    "#calculate averare change over the entire period\n",
    "        average_change = sum(monthly_profit_change) / len(months)\n",
    "    \n",
    "#calculate greatest increase and decrease in profits    \n",
    "greatest_increase = max(monthly_profit_change)\n",
    "greatest_decrease = min(monthly_profit_change)\n",
    "greatest_increase_date = months[25]\n",
    "greatest_decrease_date = months[44]\n",
    "\n",
    "# Print the analysis results\n",
    "print(\"Financial Analysis\")\n",
    "print(\"-----------------------------\")\n",
    "print(f\"Total Months: {total_months}\")\n",
    "print(f\"Total: ${net_total_amount}\")\n",
    "print(f\"Average Change: ${average_change:.2f}\")\n",
    "print(f\"Greatest Increase in Profits: {greatest_increase_date} (${greatest_increase})\")\n",
    "print(f\"Greatest Decrease in Profits: {greatest_decrease_date} (${greatest_decrease})\")\n"
   ]
  },
  {
   "cell_type": "code",
   "execution_count": null,
   "id": "9cb47135-9ce2-4055-9b69-d7921b8e8726",
   "metadata": {},
   "outputs": [],
   "source": []
  }
 ],
 "metadata": {
  "kernelspec": {
   "display_name": "Python 3 (ipykernel)",
   "language": "python",
   "name": "python3"
  },
  "language_info": {
   "codemirror_mode": {
    "name": "ipython",
    "version": 3
   },
   "file_extension": ".py",
   "mimetype": "text/x-python",
   "name": "python",
   "nbconvert_exporter": "python",
   "pygments_lexer": "ipython3",
   "version": "3.11.5"
  }
 },
 "nbformat": 4,
 "nbformat_minor": 5
}
