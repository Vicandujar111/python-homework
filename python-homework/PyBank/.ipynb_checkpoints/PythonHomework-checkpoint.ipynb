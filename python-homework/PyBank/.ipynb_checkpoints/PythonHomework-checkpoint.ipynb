{
 "cells": [
  {
   "cell_type": "code",
   "execution_count": 2,
   "id": "e2d5990c-5ddb-40ea-85db-9b46c4b2a4af",
   "metadata": {},
   "outputs": [
    {
     "name": "stdout",
     "output_type": "stream",
     "text": [
      "Financial Analysis\n",
      "-----------------------------\n",
      "Total Months: 86\n",
      "Total: $38382578\n",
      "Average Change: $-2315.12\n",
      "Greatest Increase in Profits: Feb-2012 ($1926159)\n",
      "Greatest Decrease in Profits: Sep-2013 ($-2196167)\n"
     ]
    }
   ],
   "source": [
    "#import csv file\n",
    "import csv\n",
    "\n",
    "# Read the budget data from the CSV file and skip header\n",
    "with open('budget_data.csv', 'r') as file:\n",
    "    reader = csv.reader(file)\n",
    "    header = next(reader) \n",
    "\n",
    "    months = []\n",
    "    profit_losses = []\n",
    "    changes = []\n",
    "\n",
    "    for row in reader:\n",
    "        months.append(row[0])\n",
    "        profit_losses.append(int(row[1]))\n",
    "\n",
    "# Calculate the total number of months\n",
    "total_months = len(months)\n",
    "\n",
    "# Calculate the net total amount of profit/losses\n",
    "net_total = sum(profit_losses)\n",
    "\n",
    "# Calculate the changes in profit/losses\n",
    "for y in range(1, total_months):\n",
    "    change = profit_losses[y] - profit_losses[y-1]\n",
    "    changes.append(change)\n",
    "\n",
    "# Calculate the average change\n",
    "average_change = sum(changes) / len(changes)\n",
    "\n",
    "# Find the greatest increase and decrease in profits\n",
    "greatest_increase = max(changes)\n",
    "greatest_increase_date = months[changes.index(greatest_increase) + 1]\n",
    "greatest_decrease = min(changes)\n",
    "greatest_decrease_date = months[changes.index(greatest_decrease) + 1]\n",
    "\n",
    "# Print the analysis results\n",
    "print(\"Financial Analysis\")\n",
    "print(\"-----------------------------\")\n",
    "print(f\"Total Months: {total_months}\")\n",
    "print(f\"Total: ${net_total}\")\n",
    "print(f\"Average Change: ${average_change:.2f}\")\n",
    "print(f\"Greatest Increase in Profits: {greatest_increase_date} (${greatest_increase})\")\n",
    "print(f\"Greatest Decrease in Profits: {greatest_decrease_date} (${greatest_decrease})\")"
   ]
  },
  {
   "cell_type": "code",
   "execution_count": null,
   "id": "6d370275-b419-4863-b65a-c23be60e600d",
   "metadata": {},
   "outputs": [],
   "source": []
  }
 ],
 "metadata": {
  "kernelspec": {
   "display_name": "Python 3 (ipykernel)",
   "language": "python",
   "name": "python3"
  },
  "language_info": {
   "codemirror_mode": {
    "name": "ipython",
    "version": 3
   },
   "file_extension": ".py",
   "mimetype": "text/x-python",
   "name": "python",
   "nbconvert_exporter": "python",
   "pygments_lexer": "ipython3",
   "version": "3.11.5"
  }
 },
 "nbformat": 4,
 "nbformat_minor": 5
}
